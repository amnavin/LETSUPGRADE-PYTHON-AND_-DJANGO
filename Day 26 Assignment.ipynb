{
 "cells": [
  {
   "cell_type": "code",
   "execution_count": 1,
   "metadata": {},
   "outputs": [
    {
     "name": "stdout",
     "output_type": "stream",
     "text": [
      "['a', 7, 'er', 21] #This is list1\n",
      "['a', 7, 'er', 21] #This is list3\n",
      "2359867474888\n",
      "2359867475592\n"
     ]
    },
    {
     "data": {
      "text/plain": [
       "False"
      ]
     },
     "execution_count": 1,
     "metadata": {},
     "output_type": "execute_result"
    }
   ],
   "source": [
    "#Shallow copy\n",
    "list1=['a',7,'er',21]\n",
    "list2=['ytr',857,3,'y']\n",
    "list3=list1[:]\n",
    "print(list1,'#This is list1')\n",
    "print(list3,'#This is list3')\n",
    "print(id(list1))\n",
    "print(id(list3))\n",
    "list3 is list1"
   ]
  },
  {
   "cell_type": "code",
   "execution_count": 2,
   "metadata": {},
   "outputs": [
    {
     "name": "stdout",
     "output_type": "stream",
     "text": [
      "['a', 7, 'er', 21, 'nvidia'] #This is appended list1\n",
      "['a', 7, 'er', 21, 'nvidia'] #This is list4\n",
      "2359867474888\n",
      "2359868281288\n"
     ]
    },
    {
     "data": {
      "text/plain": [
       "False"
      ]
     },
     "execution_count": 2,
     "metadata": {},
     "output_type": "execute_result"
    }
   ],
   "source": [
    "list1.append('nvidia')\n",
    "list4=list(list1)\n",
    "print(list1,'#This is appended list1')\n",
    "print(list4,'#This is list4')\n",
    "print(id(list1))\n",
    "print(id(list4))\n",
    "list4 is list1"
   ]
  },
  {
   "cell_type": "code",
   "execution_count": 3,
   "metadata": {},
   "outputs": [
    {
     "name": "stdout",
     "output_type": "stream",
     "text": [
      "[5, 43, ['hi']]\n"
     ]
    }
   ],
   "source": [
    "#Deepcopy\n",
    "from copy import deepcopy\n",
    "list5=[5,43,['hi']]\n",
    "list6=deepcopy(list5)\n",
    "print(list6)"
   ]
  },
  {
   "cell_type": "code",
   "execution_count": 4,
   "metadata": {},
   "outputs": [
    {
     "name": "stdout",
     "output_type": "stream",
     "text": [
      "[5, 43, ['hi'], 8] #This is appended list5\n",
      "[5, 43, ['hi']] #This is list6\n"
     ]
    }
   ],
   "source": [
    "list5.append(8)\n",
    "print(list5,'#This is appended list5')\n",
    "print(list6,'#This is list6')"
   ]
  },
  {
   "cell_type": "code",
   "execution_count": 5,
   "metadata": {},
   "outputs": [
    {
     "name": "stdout",
     "output_type": "stream",
     "text": [
      "[5, 43, ['hi', 'inspiron'], 8] #This is list5\n",
      "[5, 43, ['hi']] #This is list6\n"
     ]
    }
   ],
   "source": [
    "list5[2].append('inspiron')\n",
    "print(list5,'#This is list5')\n",
    "print(list6,'#This is list6')"
   ]
  },
  {
   "cell_type": "code",
   "execution_count": null,
   "metadata": {},
   "outputs": [],
   "source": []
  }
 ],
 "metadata": {
  "kernelspec": {
   "display_name": "Python 3",
   "language": "python",
   "name": "python3"
  },
  "language_info": {
   "codemirror_mode": {
    "name": "ipython",
    "version": 3
   },
   "file_extension": ".py",
   "mimetype": "text/x-python",
   "name": "python",
   "nbconvert_exporter": "python",
   "pygments_lexer": "ipython3",
   "version": "3.7.3"
  }
 },
 "nbformat": 4,
 "nbformat_minor": 2
}
